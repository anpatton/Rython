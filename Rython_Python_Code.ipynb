{
 "cells": [
  {
   "cell_type": "markdown",
   "metadata": {},
   "source": [
    "## 0) Load iris as dataframe"
   ]
  },
  {
   "cell_type": "code",
   "execution_count": 1,
   "metadata": {},
   "outputs": [],
   "source": [
    "import seaborn as sns\n",
    "iris = sns.load_dataset('iris')"
   ]
  },
  {
   "cell_type": "markdown",
   "metadata": {},
   "source": [
    "## 1) Split data into train/test sets"
   ]
  },
  {
   "cell_type": "code",
   "execution_count": 2,
   "metadata": {},
   "outputs": [
    {
     "name": "stdout",
     "output_type": "stream",
     "text": [
      "112\n",
      "38\n"
     ]
    }
   ],
   "source": [
    "from sklearn.model_selection import train_test_split\n",
    "\n",
    "train_iris, test_iris = train_test_split(iris, train_size=0.75)\n",
    "print(len(train_iris))\n",
    "print(len(test_iris))\n",
    "      "
   ]
  },
  {
   "cell_type": "markdown",
   "metadata": {},
   "source": [
    "## 2) Split a dataframe into parts based on levels of a categorical variable\n",
    "\n",
    "Via: [Nate Solon](https://twitter.com/natesolon)"
   ]
  },
  {
   "cell_type": "code",
   "execution_count": 12,
   "metadata": {},
   "outputs": [],
   "source": [
    "split_dict = {name:group for name, group in iris.groupby('species')}\n",
    "setosa = split_dict['setosa']\n",
    "versicolor = split_dict['versicolor']\n",
    "virginica = split_dict['virginica']"
   ]
  },
  {
   "cell_type": "markdown",
   "metadata": {
    "pycharm": {
     "name": "#%% md\n"
    }
   },
   "source": [
    "## 3) Conditional column creation/editing"
   ]
  },
  {
   "cell_type": "code",
   "execution_count": 11,
   "outputs": [
    {
     "data": {
      "text/plain": "     sepal_length  sepal_width  petal_length  petal_width     species  \\\n131           7.9          3.8           6.4          2.0   virginica   \n111           6.4          2.7           5.3          1.9   virginica   \n96            5.7          2.9           4.2          1.3  versicolor   \n103           6.3          2.9           5.6          1.8   virginica   \n33            5.5          4.2           1.4          0.2      setosa   \n\n    new_column_basic new_column_conditional  \n131              cat            this is not  \n111              cat            this is not  \n96               cat            this is not  \n103              cat            this is not  \n33               cat         this is setosa  ",
      "text/html": "<div>\n<style scoped>\n    .dataframe tbody tr th:only-of-type {\n        vertical-align: middle;\n    }\n\n    .dataframe tbody tr th {\n        vertical-align: top;\n    }\n\n    .dataframe thead th {\n        text-align: right;\n    }\n</style>\n<table border=\"1\" class=\"dataframe\">\n  <thead>\n    <tr style=\"text-align: right;\">\n      <th></th>\n      <th>sepal_length</th>\n      <th>sepal_width</th>\n      <th>petal_length</th>\n      <th>petal_width</th>\n      <th>species</th>\n      <th>new_column_basic</th>\n      <th>new_column_conditional</th>\n    </tr>\n  </thead>\n  <tbody>\n    <tr>\n      <th>131</th>\n      <td>7.9</td>\n      <td>3.8</td>\n      <td>6.4</td>\n      <td>2.0</td>\n      <td>virginica</td>\n      <td>cat</td>\n      <td>this is not</td>\n    </tr>\n    <tr>\n      <th>111</th>\n      <td>6.4</td>\n      <td>2.7</td>\n      <td>5.3</td>\n      <td>1.9</td>\n      <td>virginica</td>\n      <td>cat</td>\n      <td>this is not</td>\n    </tr>\n    <tr>\n      <th>96</th>\n      <td>5.7</td>\n      <td>2.9</td>\n      <td>4.2</td>\n      <td>1.3</td>\n      <td>versicolor</td>\n      <td>cat</td>\n      <td>this is not</td>\n    </tr>\n    <tr>\n      <th>103</th>\n      <td>6.3</td>\n      <td>2.9</td>\n      <td>5.6</td>\n      <td>1.8</td>\n      <td>virginica</td>\n      <td>cat</td>\n      <td>this is not</td>\n    </tr>\n    <tr>\n      <th>33</th>\n      <td>5.5</td>\n      <td>4.2</td>\n      <td>1.4</td>\n      <td>0.2</td>\n      <td>setosa</td>\n      <td>cat</td>\n      <td>this is setosa</td>\n    </tr>\n  </tbody>\n</table>\n</div>"
     },
     "execution_count": 11,
     "metadata": {},
     "output_type": "execute_result"
    }
   ],
   "source": [
    "import numpy as np\n",
    "\n",
    "iris['new_column_basic'] = 'cat'\n",
    "iris['new_column_conditional'] = np.where(iris['species'] == \"setosa\", \"this is setosa\", 'this is not')\n",
    "iris = iris.sample(frac=1) ## just to scrable the order\n",
    "iris.head()"
   ],
   "metadata": {
    "collapsed": false,
    "pycharm": {
     "name": "#%%\n"
    }
   }
  },
  {
   "cell_type": "markdown",
   "source": [
    "## 4) Change the backgrounds of plot"
   ],
   "metadata": {
    "collapsed": false,
    "pycharm": {
     "name": "#%% md\n"
    }
   }
  },
  {
   "cell_type": "code",
   "execution_count": 27,
   "outputs": [
    {
     "data": {
      "text/plain": "<matplotlib.collections.PathCollection at 0x13b578080>"
     },
     "execution_count": 27,
     "metadata": {},
     "output_type": "execute_result"
    },
    {
     "data": {
      "text/plain": "<Figure size 432x288 with 1 Axes>",
      "image/png": "[encoded data removed]"
     },
     "metadata": {},
     "output_type": "display_data"
    }
   ],
   "source": [
    "import matplotlib.pyplot as plt\n",
    "\n",
    "fig = plt.figure()\n",
    "fig.set_facecolor('yellow') ## string for color\n",
    "ax = fig.add_subplot()\n",
    "ax.set_facecolor('#7392B7') ## hex for color\n",
    "plt.scatter(iris['sepal_length'], iris['sepal_width'])"
   ],
   "metadata": {
    "collapsed": false,
    "pycharm": {
     "name": "#%%\n"
    }
   }
  },
  {
   "cell_type": "markdown",
   "source": [
    "## 5) Change the backgrounds of plot"
   ],
   "metadata": {
    "collapsed": false,
    "pycharm": {
     "name": "#%% md\n"
    }
   }
  },
  {
   "cell_type": "code",
   "execution_count": 2,
   "outputs": [
    {
     "data": {
      "text/plain": "      species   n  sepal_length_sum  sepal_width_mean  petal_length_max\n0      setosa  50             250.3             3.428               1.9\n1  versicolor  50             296.8             2.770               5.1\n2   virginica  50             329.4             2.974               6.9",
      "text/html": "<div>\n<style scoped>\n    .dataframe tbody tr th:only-of-type {\n        vertical-align: middle;\n    }\n\n    .dataframe tbody tr th {\n        vertical-align: top;\n    }\n\n    .dataframe thead th {\n        text-align: right;\n    }\n</style>\n<table border=\"1\" class=\"dataframe\">\n  <thead>\n    <tr style=\"text-align: right;\">\n      <th></th>\n      <th>species</th>\n      <th>n</th>\n      <th>sepal_length_sum</th>\n      <th>sepal_width_mean</th>\n      <th>petal_length_max</th>\n    </tr>\n  </thead>\n  <tbody>\n    <tr>\n      <th>0</th>\n      <td>setosa</td>\n      <td>50</td>\n      <td>250.3</td>\n      <td>3.428</td>\n      <td>1.9</td>\n    </tr>\n    <tr>\n      <th>1</th>\n      <td>versicolor</td>\n      <td>50</td>\n      <td>296.8</td>\n      <td>2.770</td>\n      <td>5.1</td>\n    </tr>\n    <tr>\n      <th>2</th>\n      <td>virginica</td>\n      <td>50</td>\n      <td>329.4</td>\n      <td>2.974</td>\n      <td>6.9</td>\n    </tr>\n  </tbody>\n</table>\n</div>"
     },
     "execution_count": 2,
     "metadata": {},
     "output_type": "execute_result"
    }
   ],
   "source": [
    "## can just add more variables to groupby call as well\n",
    "iris_results = (iris\n",
    "                .groupby(['species'])[['sepal_length', 'sepal_width', 'petal_length']]\n",
    "                     .agg({'sepal_length': ['count', 'sum'],\n",
    "                           'sepal_width': ['mean'],\n",
    "                           'petal_length': ['max']}))\n",
    "\n",
    "iris_results.columns = ['n', 'sepal_length_sum', 'sepal_width_mean', 'petal_length_max']\n",
    "iris_results.reset_index() ## don't forget this!"
   ],
   "metadata": {
    "collapsed": false,
    "pycharm": {
     "name": "#%%\n"
    }
   }
  },
  {
   "cell_type": "markdown",
   "source": [
    "## 6) Get a linear regression summary table"
   ],
   "metadata": {
    "collapsed": false,
    "pycharm": {
     "name": "#%% md\n"
    }
   }
  },
  {
   "cell_type": "code",
   "execution_count": 3,
   "outputs": [
    {
     "data": {
      "text/plain": "<class 'statsmodels.iolib.summary.Summary'>\n\"\"\"\n                                 OLS Regression Results                                \n=======================================================================================\nDep. Variable:           sepal_length   R-squared (uncentered):                   0.957\nModel:                            OLS   Adj. R-squared (uncentered):              0.956\nMethod:                 Least Squares   F-statistic:                              3277.\nDate:                Wed, 13 Jan 2021   Prob (F-statistic):                   2.42e-103\nTime:                        09:42:39   Log-Likelihood:                         -243.98\nNo. Observations:                 150   AIC:                                      490.0\nDf Residuals:                     149   BIC:                                      493.0\nDf Model:                           1                                                  \nCovariance Type:            nonrobust                                                  \n===============================================================================\n                  coef    std err          t      P>|t|      [0.025      0.975]\n-------------------------------------------------------------------------------\nsepal_width     1.8690      0.033     57.246      0.000       1.804       1.934\n==============================================================================\nOmnibus:                       18.144   Durbin-Watson:                   0.427\nProb(Omnibus):                  0.000   Jarque-Bera (JB):                7.909\nSkew:                          -0.338   Prob(JB):                       0.0192\nKurtosis:                       2.101   Cond. No.                         1.00\n==============================================================================\n\nNotes:\n[1] R² is computed without centering (uncentered) since the model does not contain a constant.\n[2] Standard Errors assume that the covariance matrix of the errors is correctly specified.\n\"\"\"",
      "text/html": "<table class=\"simpletable\">\n<caption>OLS Regression Results</caption>\n<tr>\n  <th>Dep. Variable:</th>      <td>sepal_length</td>   <th>  R-squared (uncentered):</th>      <td>   0.957</td> \n</tr>\n<tr>\n  <th>Model:</th>                   <td>OLS</td>       <th>  Adj. R-squared (uncentered):</th> <td>   0.956</td> \n</tr>\n<tr>\n  <th>Method:</th>             <td>Least Squares</td>  <th>  F-statistic:       </th>          <td>   3277.</td> \n</tr>\n<tr>\n  <th>Date:</th>             <td>Wed, 13 Jan 2021</td> <th>  Prob (F-statistic):</th>          <td>2.42e-103</td>\n</tr>\n<tr>\n  <th>Time:</th>                 <td>09:42:39</td>     <th>  Log-Likelihood:    </th>          <td> -243.98</td> \n</tr>\n<tr>\n  <th>No. Observations:</th>      <td>   150</td>      <th>  AIC:               </th>          <td>   490.0</td> \n</tr>\n<tr>\n  <th>Df Residuals:</th>          <td>   149</td>      <th>  BIC:               </th>          <td>   493.0</td> \n</tr>\n<tr>\n  <th>Df Model:</th>              <td>     1</td>      <th>                     </th>              <td> </td>    \n</tr>\n<tr>\n  <th>Covariance Type:</th>      <td>nonrobust</td>    <th>                     </th>              <td> </td>    \n</tr>\n</table>\n<table class=\"simpletable\">\n<tr>\n       <td></td>          <th>coef</th>     <th>std err</th>      <th>t</th>      <th>P>|t|</th>  <th>[0.025</th>    <th>0.975]</th>  \n</tr>\n<tr>\n  <th>sepal_width</th> <td>    1.8690</td> <td>    0.033</td> <td>   57.246</td> <td> 0.000</td> <td>    1.804</td> <td>    1.934</td>\n</tr>\n</table>\n<table class=\"simpletable\">\n<tr>\n  <th>Omnibus:</th>       <td>18.144</td> <th>  Durbin-Watson:     </th> <td>   0.427</td>\n</tr>\n<tr>\n  <th>Prob(Omnibus):</th> <td> 0.000</td> <th>  Jarque-Bera (JB):  </th> <td>   7.909</td>\n</tr>\n<tr>\n  <th>Skew:</th>          <td>-0.338</td> <th>  Prob(JB):          </th> <td>  0.0192</td>\n</tr>\n<tr>\n  <th>Kurtosis:</th>      <td> 2.101</td> <th>  Cond. No.          </th> <td>    1.00</td>\n</tr>\n</table><br/><br/>Notes:<br/>[1] R² is computed without centering (uncentered) since the model does not contain a constant.<br/>[2] Standard Errors assume that the covariance matrix of the errors is correctly specified."
     },
     "execution_count": 3,
     "metadata": {},
     "output_type": "execute_result"
    }
   ],
   "source": [
    "import statsmodels.api as sm ## THIS IS NOT AVAILABLE IN SKLEARN\n",
    "\n",
    "## !!! Y, X unlike sklearn !!!\n",
    "model = sm.OLS(iris['sepal_length'], iris['sepal_width']).fit()\n",
    "model.summary()\n"
   ],
   "metadata": {
    "collapsed": false,
    "pycharm": {
     "name": "#%%\n"
    }
   }
  }
 ],
 "metadata": {
  "kernelspec": {
   "display_name": "Python 3",
   "language": "python",
   "name": "python3"
  },
  "language_info": {
   "codemirror_mode": {
    "name": "ipython",
    "version": 3
   },
   "file_extension": ".py",
   "mimetype": "text/x-python",
   "name": "python",
   "nbconvert_exporter": "python",
   "pygments_lexer": "ipython3",
   "version": "3.7.3"
  }
 },
 "nbformat": 4,
 "nbformat_minor": 4
}